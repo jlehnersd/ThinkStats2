{
 "cells": [
  {
   "cell_type": "markdown",
   "metadata": {},
   "source": [
    "# Chapter 3: Probability mass functions\n",
    "---"
   ]
  },
  {
   "cell_type": "markdown",
   "metadata": {},
   "source": [
    "## 3.1 - PMFs"
   ]
  },
  {
   "cell_type": "code",
   "execution_count": 1,
   "metadata": {},
   "outputs": [],
   "source": [
    "import thinkstats2"
   ]
  },
  {
   "cell_type": "code",
   "execution_count": 2,
   "metadata": {},
   "outputs": [
    {
     "data": {
      "text/plain": [
       "Pmf({1: 0.2, 2: 0.4, 3: 0.2, 5: 0.2})"
      ]
     },
     "execution_count": 2,
     "metadata": {},
     "output_type": "execute_result"
    }
   ],
   "source": [
    "pmf = thinkstats2.Pmf([1, 2, 2, 3, 5])\n",
    "pmf"
   ]
  },
  {
   "cell_type": "code",
   "execution_count": 3,
   "metadata": {},
   "outputs": [
    {
     "data": {
      "text/plain": [
       "0.4"
      ]
     },
     "execution_count": 3,
     "metadata": {},
     "output_type": "execute_result"
    }
   ],
   "source": [
    "pmf.Prob(2)"
   ]
  },
  {
   "cell_type": "code",
   "execution_count": 4,
   "metadata": {},
   "outputs": [
    {
     "data": {
      "text/plain": [
       "0.4"
      ]
     },
     "execution_count": 4,
     "metadata": {},
     "output_type": "execute_result"
    }
   ],
   "source": [
    "pmf[2]"
   ]
  },
  {
   "cell_type": "code",
   "execution_count": 5,
   "metadata": {},
   "outputs": [
    {
     "data": {
      "text/plain": [
       "0.6000000000000001"
      ]
     },
     "execution_count": 5,
     "metadata": {},
     "output_type": "execute_result"
    }
   ],
   "source": [
    "pmf.Incr(2, 0.2)\n",
    "pmf.Prob(2)"
   ]
  },
  {
   "cell_type": "code",
   "execution_count": 6,
   "metadata": {},
   "outputs": [
    {
     "data": {
      "text/plain": [
       "0.30000000000000004"
      ]
     },
     "execution_count": 6,
     "metadata": {},
     "output_type": "execute_result"
    }
   ],
   "source": [
    "pmf.Mult(2, 0.5)\n",
    "pmf[2]"
   ]
  },
  {
   "cell_type": "code",
   "execution_count": 7,
   "metadata": {},
   "outputs": [
    {
     "data": {
      "text/plain": [
       "0.8999999999999999"
      ]
     },
     "execution_count": 7,
     "metadata": {},
     "output_type": "execute_result"
    }
   ],
   "source": [
    "pmf.Total()"
   ]
  },
  {
   "cell_type": "code",
   "execution_count": 8,
   "metadata": {},
   "outputs": [
    {
     "data": {
      "text/plain": [
       "1.0"
      ]
     },
     "execution_count": 8,
     "metadata": {},
     "output_type": "execute_result"
    }
   ],
   "source": [
    "pmf.Normalize()\n",
    "pmf.Total()"
   ]
  },
  {
   "cell_type": "markdown",
   "metadata": {},
   "source": [
    "## 3.2 - Plotting PMFs"
   ]
  },
  {
   "cell_type": "code",
   "execution_count": 9,
   "metadata": {},
   "outputs": [],
   "source": [
    "import nsfg\n",
    "import thinkplot"
   ]
  },
  {
   "cell_type": "code",
   "execution_count": 10,
   "metadata": {},
   "outputs": [],
   "source": [
    "preg = nsfg.ReadFemPreg()"
   ]
  },
  {
   "cell_type": "code",
   "execution_count": 11,
   "metadata": {},
   "outputs": [],
   "source": [
    "live = preg[preg.outcome == 1]"
   ]
  },
  {
   "cell_type": "code",
   "execution_count": 12,
   "metadata": {},
   "outputs": [],
   "source": [
    "firsts = live[live.birthord == 1]\n",
    "others = live[live.birthord != 1]"
   ]
  },
  {
   "cell_type": "code",
   "execution_count": 13,
   "metadata": {},
   "outputs": [],
   "source": [
    "firsts_pmf = thinkstats2.Pmf(firsts.prglngth)\n",
    "others_pmf = thinkstats2.Pmf(others.prglngth)"
   ]
  },
  {
   "cell_type": "code",
   "execution_count": 14,
   "metadata": {},
   "outputs": [
    {
     "data": {
      "image/png": "[encoded data removed]",
      "text/plain": [
       "<Figure size 864x432 with 2 Axes>"
      ]
     },
     "metadata": {
      "needs_background": "light"
     },
     "output_type": "display_data"
    },
    {
     "data": {
      "text/plain": [
       "<Figure size 576x432 with 0 Axes>"
      ]
     },
     "metadata": {},
     "output_type": "display_data"
    }
   ],
   "source": [
    "thinkplot.PrePlot(2, cols=2)\n",
    "\n",
    "thinkplot.Hist(firsts_pmf, align='right', label='firsts')\n",
    "thinkplot.Hist(others_pmf, align='left', label='others')\n",
    "thinkplot.Config(xlabel='weeks', ylabel='probability', axis=[27, 46, 0, 0.6])\n",
    "\n",
    "thinkplot.PrePlot(2)\n",
    "thinkplot.SubPlot(2)\n",
    "thinkplot.Pmfs([firsts_pmf, others_pmf])\n",
    "\n",
    "thinkplot.Show(xlabel='weeks', axis=[27, 46, 0, 0.6])"
   ]
  },
  {
   "cell_type": "markdown",
   "metadata": {},
   "source": [
    "## 3.3 - Other visualizations"
   ]
  },
  {
   "cell_type": "code",
   "execution_count": 15,
   "metadata": {},
   "outputs": [
    {
     "data": {
      "image/png": "[encoded data removed]",
      "text/plain": [
       "<Figure size 432x288 with 1 Axes>"
      ]
     },
     "metadata": {
      "needs_background": "light"
     },
     "output_type": "display_data"
    },
    {
     "data": {
      "text/plain": [
       "<Figure size 576x432 with 0 Axes>"
      ]
     },
     "metadata": {},
     "output_type": "display_data"
    }
   ],
   "source": [
    "weeks = range(35, 46)\n",
    "diffs = []\n",
    "\n",
    "for week in weeks:\n",
    "    p1 = firsts_pmf.Prob(week)\n",
    "    p2 = others_pmf.Prob(week)\n",
    "    diff = 100 * (p1 - p2)\n",
    "    diffs.append(diff)\n",
    "\n",
    "thinkplot.Bar(weeks, diffs)\n",
    "thinkplot.Show(xlabel='weeks', ylabel='percent difference', axis=[34, 46, -8, 8])"
   ]
  },
  {
   "cell_type": "markdown",
   "metadata": {},
   "source": [
    "## 3.4 - The class size paradox"
   ]
  },
  {
   "cell_type": "code",
   "execution_count": 16,
   "metadata": {},
   "outputs": [
    {
     "name": "stdout",
     "output_type": "stream",
     "text": [
      "mean 23.692307692307693\n"
     ]
    }
   ],
   "source": [
    "d = { 7: 8, 12: 8, 17: 14, 22: 4, 27: 6, 32: 12, 37: 8, 42: 3, 47: 2 }\n",
    "pmf = thinkstats2.Pmf(d, label='actual')\n",
    "\n",
    "print('mean', pmf.Mean())"
   ]
  },
  {
   "cell_type": "code",
   "execution_count": 17,
   "metadata": {},
   "outputs": [],
   "source": [
    "def BiasPmf(pmf, label):\n",
    "    new_pmf = pmf.Copy(label=label)\n",
    "    \n",
    "    for x, p in pmf.Items():\n",
    "        new_pmf.Mult(x, x)\n",
    "    \n",
    "    new_pmf.Normalize()\n",
    "    return new_pmf\n",
    "\n",
    "biased_pmf = BiasPmf(pmf, label='observed')"
   ]
  },
  {
   "cell_type": "code",
   "execution_count": 18,
   "metadata": {},
   "outputs": [
    {
     "data": {
      "image/png": "[encoded data removed]",
      "text/plain": [
       "<Figure size 432x288 with 1 Axes>"
      ]
     },
     "metadata": {
      "needs_background": "light"
     },
     "output_type": "display_data"
    },
    {
     "data": {
      "text/plain": [
       "<Figure size 576x432 with 0 Axes>"
      ]
     },
     "metadata": {},
     "output_type": "display_data"
    }
   ],
   "source": [
    "thinkplot.PrePlot(2)\n",
    "thinkplot.Pmfs([pmf, biased_pmf])\n",
    "thinkplot.Show(xlabel='class size', ylabel='PMF')"
   ]
  },
  {
   "cell_type": "code",
   "execution_count": 19,
   "metadata": {},
   "outputs": [],
   "source": [
    "def UnbiasPmf(pmf, label):\n",
    "    new_pmf = pmf.Copy(label=label)\n",
    "    \n",
    "    for x, p in pmf.Items():\n",
    "        new_pmf.Mult(x, 1.0/x)\n",
    "\n",
    "    new_pmf.Normalize()\n",
    "    return new_pmf"
   ]
  },
  {
   "cell_type": "markdown",
   "metadata": {},
   "source": [
    "## 3.5 - DataFrame indexing"
   ]
  },
  {
   "cell_type": "code",
   "execution_count": 20,
   "metadata": {},
   "outputs": [],
   "source": [
    "import numpy as np\n",
    "import pandas as pd"
   ]
  },
  {
   "cell_type": "code",
   "execution_count": 21,
   "metadata": {},
   "outputs": [
    {
     "data": {
      "text/html": [
       "<div>\n",
       "<style scoped>\n",
       "    .dataframe tbody tr th:only-of-type {\n",
       "        vertical-align: middle;\n",
       "    }\n",
       "\n",
       "    .dataframe tbody tr th {\n",
       "        vertical-align: top;\n",
       "    }\n",
       "\n",
       "    .dataframe thead th {\n",
       "        text-align: right;\n",
       "    }\n",
       "</style>\n",
       "<table border=\"1\" class=\"dataframe\">\n",
       "  <thead>\n",
       "    <tr style=\"text-align: right;\">\n",
       "      <th></th>\n",
       "      <th>0</th>\n",
       "      <th>1</th>\n",
       "    </tr>\n",
       "  </thead>\n",
       "  <tbody>\n",
       "    <tr>\n",
       "      <th>0</th>\n",
       "      <td>0.448597</td>\n",
       "      <td>-0.168751</td>\n",
       "    </tr>\n",
       "    <tr>\n",
       "      <th>1</th>\n",
       "      <td>0.961024</td>\n",
       "      <td>-1.566484</td>\n",
       "    </tr>\n",
       "    <tr>\n",
       "      <th>2</th>\n",
       "      <td>0.131382</td>\n",
       "      <td>-1.194208</td>\n",
       "    </tr>\n",
       "    <tr>\n",
       "      <th>3</th>\n",
       "      <td>-0.262092</td>\n",
       "      <td>0.848738</td>\n",
       "    </tr>\n",
       "  </tbody>\n",
       "</table>\n",
       "</div>"
      ],
      "text/plain": [
       "          0         1\n",
       "0  0.448597 -0.168751\n",
       "1  0.961024 -1.566484\n",
       "2  0.131382 -1.194208\n",
       "3 -0.262092  0.848738"
      ]
     },
     "execution_count": 21,
     "metadata": {},
     "output_type": "execute_result"
    }
   ],
   "source": [
    "array = np.random.randn(4, 2)\n",
    "\n",
    "df = pd.DataFrame(array)\n",
    "df"
   ]
  },
  {
   "cell_type": "code",
   "execution_count": 22,
   "metadata": {},
   "outputs": [
    {
     "data": {
      "text/html": [
       "<div>\n",
       "<style scoped>\n",
       "    .dataframe tbody tr th:only-of-type {\n",
       "        vertical-align: middle;\n",
       "    }\n",
       "\n",
       "    .dataframe tbody tr th {\n",
       "        vertical-align: top;\n",
       "    }\n",
       "\n",
       "    .dataframe thead th {\n",
       "        text-align: right;\n",
       "    }\n",
       "</style>\n",
       "<table border=\"1\" class=\"dataframe\">\n",
       "  <thead>\n",
       "    <tr style=\"text-align: right;\">\n",
       "      <th></th>\n",
       "      <th>A</th>\n",
       "      <th>B</th>\n",
       "    </tr>\n",
       "  </thead>\n",
       "  <tbody>\n",
       "    <tr>\n",
       "      <th>0</th>\n",
       "      <td>0.448597</td>\n",
       "      <td>-0.168751</td>\n",
       "    </tr>\n",
       "    <tr>\n",
       "      <th>1</th>\n",
       "      <td>0.961024</td>\n",
       "      <td>-1.566484</td>\n",
       "    </tr>\n",
       "    <tr>\n",
       "      <th>2</th>\n",
       "      <td>0.131382</td>\n",
       "      <td>-1.194208</td>\n",
       "    </tr>\n",
       "    <tr>\n",
       "      <th>3</th>\n",
       "      <td>-0.262092</td>\n",
       "      <td>0.848738</td>\n",
       "    </tr>\n",
       "  </tbody>\n",
       "</table>\n",
       "</div>"
      ],
      "text/plain": [
       "          A         B\n",
       "0  0.448597 -0.168751\n",
       "1  0.961024 -1.566484\n",
       "2  0.131382 -1.194208\n",
       "3 -0.262092  0.848738"
      ]
     },
     "execution_count": 22,
     "metadata": {},
     "output_type": "execute_result"
    }
   ],
   "source": [
    "columns = ['A', 'B']\n",
    "\n",
    "df = pd.DataFrame(array, columns=columns)\n",
    "df"
   ]
  },
  {
   "cell_type": "code",
   "execution_count": 23,
   "metadata": {},
   "outputs": [
    {
     "data": {
      "text/html": [
       "<div>\n",
       "<style scoped>\n",
       "    .dataframe tbody tr th:only-of-type {\n",
       "        vertical-align: middle;\n",
       "    }\n",
       "\n",
       "    .dataframe tbody tr th {\n",
       "        vertical-align: top;\n",
       "    }\n",
       "\n",
       "    .dataframe thead th {\n",
       "        text-align: right;\n",
       "    }\n",
       "</style>\n",
       "<table border=\"1\" class=\"dataframe\">\n",
       "  <thead>\n",
       "    <tr style=\"text-align: right;\">\n",
       "      <th></th>\n",
       "      <th>A</th>\n",
       "      <th>B</th>\n",
       "    </tr>\n",
       "  </thead>\n",
       "  <tbody>\n",
       "    <tr>\n",
       "      <th>a</th>\n",
       "      <td>0.448597</td>\n",
       "      <td>-0.168751</td>\n",
       "    </tr>\n",
       "    <tr>\n",
       "      <th>b</th>\n",
       "      <td>0.961024</td>\n",
       "      <td>-1.566484</td>\n",
       "    </tr>\n",
       "    <tr>\n",
       "      <th>c</th>\n",
       "      <td>0.131382</td>\n",
       "      <td>-1.194208</td>\n",
       "    </tr>\n",
       "    <tr>\n",
       "      <th>d</th>\n",
       "      <td>-0.262092</td>\n",
       "      <td>0.848738</td>\n",
       "    </tr>\n",
       "  </tbody>\n",
       "</table>\n",
       "</div>"
      ],
      "text/plain": [
       "          A         B\n",
       "a  0.448597 -0.168751\n",
       "b  0.961024 -1.566484\n",
       "c  0.131382 -1.194208\n",
       "d -0.262092  0.848738"
      ]
     },
     "execution_count": 23,
     "metadata": {},
     "output_type": "execute_result"
    }
   ],
   "source": [
    "index = ['a', 'b', 'c', 'd']\n",
    "\n",
    "df = pd.DataFrame(array, columns=columns, index=index)\n",
    "df"
   ]
  },
  {
   "cell_type": "code",
   "execution_count": 24,
   "metadata": {},
   "outputs": [
    {
     "data": {
      "text/plain": [
       "a    0.448597\n",
       "b    0.961024\n",
       "c    0.131382\n",
       "d   -0.262092\n",
       "Name: A, dtype: float64"
      ]
     },
     "execution_count": 24,
     "metadata": {},
     "output_type": "execute_result"
    }
   ],
   "source": [
    "df['A']"
   ]
  },
  {
   "cell_type": "code",
   "execution_count": 25,
   "metadata": {},
   "outputs": [
    {
     "data": {
      "text/plain": [
       "A    0.448597\n",
       "B   -0.168751\n",
       "Name: a, dtype: float64"
      ]
     },
     "execution_count": 25,
     "metadata": {},
     "output_type": "execute_result"
    }
   ],
   "source": [
    "df.loc['a']"
   ]
  },
  {
   "cell_type": "code",
   "execution_count": 26,
   "metadata": {},
   "outputs": [
    {
     "data": {
      "text/plain": [
       "A    0.448597\n",
       "B   -0.168751\n",
       "Name: a, dtype: float64"
      ]
     },
     "execution_count": 26,
     "metadata": {},
     "output_type": "execute_result"
    }
   ],
   "source": [
    "df.iloc[0]"
   ]
  },
  {
   "cell_type": "code",
   "execution_count": 27,
   "metadata": {},
   "outputs": [
    {
     "data": {
      "text/html": [
       "<div>\n",
       "<style scoped>\n",
       "    .dataframe tbody tr th:only-of-type {\n",
       "        vertical-align: middle;\n",
       "    }\n",
       "\n",
       "    .dataframe tbody tr th {\n",
       "        vertical-align: top;\n",
       "    }\n",
       "\n",
       "    .dataframe thead th {\n",
       "        text-align: right;\n",
       "    }\n",
       "</style>\n",
       "<table border=\"1\" class=\"dataframe\">\n",
       "  <thead>\n",
       "    <tr style=\"text-align: right;\">\n",
       "      <th></th>\n",
       "      <th>A</th>\n",
       "      <th>B</th>\n",
       "    </tr>\n",
       "  </thead>\n",
       "  <tbody>\n",
       "    <tr>\n",
       "      <th>a</th>\n",
       "      <td>0.448597</td>\n",
       "      <td>-0.168751</td>\n",
       "    </tr>\n",
       "    <tr>\n",
       "      <th>c</th>\n",
       "      <td>0.131382</td>\n",
       "      <td>-1.194208</td>\n",
       "    </tr>\n",
       "  </tbody>\n",
       "</table>\n",
       "</div>"
      ],
      "text/plain": [
       "          A         B\n",
       "a  0.448597 -0.168751\n",
       "c  0.131382 -1.194208"
      ]
     },
     "execution_count": 27,
     "metadata": {},
     "output_type": "execute_result"
    }
   ],
   "source": [
    "indices = ['a', 'c']\n",
    "df.loc[indices]"
   ]
  },
  {
   "cell_type": "code",
   "execution_count": 28,
   "metadata": {},
   "outputs": [
    {
     "data": {
      "text/html": [
       "<div>\n",
       "<style scoped>\n",
       "    .dataframe tbody tr th:only-of-type {\n",
       "        vertical-align: middle;\n",
       "    }\n",
       "\n",
       "    .dataframe tbody tr th {\n",
       "        vertical-align: top;\n",
       "    }\n",
       "\n",
       "    .dataframe thead th {\n",
       "        text-align: right;\n",
       "    }\n",
       "</style>\n",
       "<table border=\"1\" class=\"dataframe\">\n",
       "  <thead>\n",
       "    <tr style=\"text-align: right;\">\n",
       "      <th></th>\n",
       "      <th>A</th>\n",
       "      <th>B</th>\n",
       "    </tr>\n",
       "  </thead>\n",
       "  <tbody>\n",
       "    <tr>\n",
       "      <th>a</th>\n",
       "      <td>0.448597</td>\n",
       "      <td>-0.168751</td>\n",
       "    </tr>\n",
       "    <tr>\n",
       "      <th>b</th>\n",
       "      <td>0.961024</td>\n",
       "      <td>-1.566484</td>\n",
       "    </tr>\n",
       "    <tr>\n",
       "      <th>c</th>\n",
       "      <td>0.131382</td>\n",
       "      <td>-1.194208</td>\n",
       "    </tr>\n",
       "  </tbody>\n",
       "</table>\n",
       "</div>"
      ],
      "text/plain": [
       "          A         B\n",
       "a  0.448597 -0.168751\n",
       "b  0.961024 -1.566484\n",
       "c  0.131382 -1.194208"
      ]
     },
     "execution_count": 28,
     "metadata": {},
     "output_type": "execute_result"
    }
   ],
   "source": [
    "df['a':'c']"
   ]
  },
  {
   "cell_type": "code",
   "execution_count": 29,
   "metadata": {},
   "outputs": [
    {
     "data": {
      "text/html": [
       "<div>\n",
       "<style scoped>\n",
       "    .dataframe tbody tr th:only-of-type {\n",
       "        vertical-align: middle;\n",
       "    }\n",
       "\n",
       "    .dataframe tbody tr th {\n",
       "        vertical-align: top;\n",
       "    }\n",
       "\n",
       "    .dataframe thead th {\n",
       "        text-align: right;\n",
       "    }\n",
       "</style>\n",
       "<table border=\"1\" class=\"dataframe\">\n",
       "  <thead>\n",
       "    <tr style=\"text-align: right;\">\n",
       "      <th></th>\n",
       "      <th>A</th>\n",
       "      <th>B</th>\n",
       "    </tr>\n",
       "  </thead>\n",
       "  <tbody>\n",
       "    <tr>\n",
       "      <th>a</th>\n",
       "      <td>0.448597</td>\n",
       "      <td>-0.168751</td>\n",
       "    </tr>\n",
       "    <tr>\n",
       "      <th>b</th>\n",
       "      <td>0.961024</td>\n",
       "      <td>-1.566484</td>\n",
       "    </tr>\n",
       "  </tbody>\n",
       "</table>\n",
       "</div>"
      ],
      "text/plain": [
       "          A         B\n",
       "a  0.448597 -0.168751\n",
       "b  0.961024 -1.566484"
      ]
     },
     "execution_count": 29,
     "metadata": {},
     "output_type": "execute_result"
    }
   ],
   "source": [
    "df[0:2]"
   ]
  },
  {
   "cell_type": "markdown",
   "metadata": {},
   "source": [
    "---\n",
    "## 3.6 - Exercises\n",
    "---"
   ]
  },
  {
   "cell_type": "markdown",
   "metadata": {},
   "source": [
    "### Exercise 3.1"
   ]
  },
  {
   "cell_type": "code",
   "execution_count": 30,
   "metadata": {},
   "outputs": [],
   "source": [
    "resp = nsfg.ReadFemResp()"
   ]
  },
  {
   "cell_type": "code",
   "execution_count": 38,
   "metadata": {},
   "outputs": [
    {
     "data": {
      "text/plain": [
       "Pmf({0: 0.466178202276593, 1: 0.21405207379301322, 2: 0.19625801386889966, 3: 0.08713855815779145, 4: 0.025644380478869556, 5: 0.01072877142483318}, 'unbiased')"
      ]
     },
     "execution_count": 38,
     "metadata": {},
     "output_type": "execute_result"
    }
   ],
   "source": [
    "pmf = thinkstats2.Pmf(resp.numkdhh, label='unbiased')\n",
    "pmf"
   ]
  },
  {
   "cell_type": "code",
   "execution_count": 39,
   "metadata": {},
   "outputs": [],
   "source": [
    "biased_pmf = BiasPmf(pmf, label='biased')"
   ]
  },
  {
   "cell_type": "code",
   "execution_count": 42,
   "metadata": {},
   "outputs": [
    {
     "data": {
      "image/png": "[encoded data removed]",
      "text/plain": [
       "<Figure size 432x288 with 1 Axes>"
      ]
     },
     "metadata": {
      "needs_background": "light"
     },
     "output_type": "display_data"
    },
    {
     "data": {
      "text/plain": [
       "<Figure size 576x432 with 0 Axes>"
      ]
     },
     "metadata": {},
     "output_type": "display_data"
    }
   ],
   "source": [
    "thinkplot.PrePlot(2)\n",
    "thinkplot.Pmfs([pmf, biased_pmf])\n",
    "thinkplot.Show(xlabel='Number of Children', ylabel='PMF')"
   ]
  },
  {
   "cell_type": "markdown",
   "metadata": {},
   "source": [
    "### Exercise 3.2"
   ]
  },
  {
   "cell_type": "code",
   "execution_count": 52,
   "metadata": {},
   "outputs": [
    {
     "name": "stdout",
     "output_type": "stream",
     "text": [
      "Mean from PmfMean():  1.024205155043831\n",
      "Mean from pmf.Mean():  1.024205155043831\n"
     ]
    }
   ],
   "source": [
    "def PmfMean(pmf):\n",
    "    mean = 0\n",
    "    \n",
    "    for value, prob in pmf.Items():\n",
    "        mean = mean + (value * prob)\n",
    "    \n",
    "    return mean\n",
    "\n",
    "print(\"Mean from PmfMean(): \", PmfMean(pmf))\n",
    "print(\"Mean from pmf.Mean(): \", pmf.Mean())"
   ]
  },
  {
   "cell_type": "code",
   "execution_count": 53,
   "metadata": {},
   "outputs": [
    {
     "name": "stdout",
     "output_type": "stream",
     "text": [
      "Variance from PmfVar():  1.4128643263531195\n",
      "Variance from pmf.Var():  1.4128643263531195\n"
     ]
    }
   ],
   "source": [
    "def PmfVar(pmf, mean):\n",
    "    var = 0\n",
    "    \n",
    "    for value, prob in pmf.Items():\n",
    "        var = var + prob * (value - mean)**2\n",
    "    \n",
    "    return var\n",
    "\n",
    "print(\"Variance from PmfVar(): \", PmfVar(pmf, PmfMean(pmf)))\n",
    "print(\"Variance from pmf.Var(): \", pmf.Var())"
   ]
  },
  {
   "cell_type": "markdown",
   "metadata": {},
   "source": [
    "### Exercise 3.3"
   ]
  },
  {
   "cell_type": "code",
   "execution_count": 82,
   "metadata": {},
   "outputs": [
    {
     "data": {
      "text/html": [
       "<div>\n",
       "<style scoped>\n",
       "    .dataframe tbody tr th:only-of-type {\n",
       "        vertical-align: middle;\n",
       "    }\n",
       "\n",
       "    .dataframe tbody tr th {\n",
       "        vertical-align: top;\n",
       "    }\n",
       "\n",
       "    .dataframe thead th {\n",
       "        text-align: right;\n",
       "    }\n",
       "</style>\n",
       "<table border=\"1\" class=\"dataframe\">\n",
       "  <thead>\n",
       "    <tr style=\"text-align: right;\">\n",
       "      <th></th>\n",
       "      <th>caseid</th>\n",
       "      <th>pregordr</th>\n",
       "      <th>howpreg_n</th>\n",
       "      <th>howpreg_p</th>\n",
       "      <th>moscurrp</th>\n",
       "      <th>nowprgdk</th>\n",
       "      <th>pregend1</th>\n",
       "      <th>pregend2</th>\n",
       "      <th>nbrnaliv</th>\n",
       "      <th>multbrth</th>\n",
       "      <th>...</th>\n",
       "      <th>laborfor_i</th>\n",
       "      <th>religion_i</th>\n",
       "      <th>metro_i</th>\n",
       "      <th>basewgt</th>\n",
       "      <th>adj_mod_basewgt</th>\n",
       "      <th>finalwgt</th>\n",
       "      <th>secu_p</th>\n",
       "      <th>sest</th>\n",
       "      <th>cmintvw</th>\n",
       "      <th>totalwgt_lb</th>\n",
       "    </tr>\n",
       "  </thead>\n",
       "  <tbody>\n",
       "    <tr>\n",
       "      <th>0</th>\n",
       "      <td>1</td>\n",
       "      <td>1</td>\n",
       "      <td>NaN</td>\n",
       "      <td>NaN</td>\n",
       "      <td>NaN</td>\n",
       "      <td>NaN</td>\n",
       "      <td>6.0</td>\n",
       "      <td>NaN</td>\n",
       "      <td>1.0</td>\n",
       "      <td>NaN</td>\n",
       "      <td>...</td>\n",
       "      <td>0</td>\n",
       "      <td>0</td>\n",
       "      <td>0</td>\n",
       "      <td>3410.389399</td>\n",
       "      <td>3869.349602</td>\n",
       "      <td>6448.271112</td>\n",
       "      <td>2</td>\n",
       "      <td>9</td>\n",
       "      <td>NaN</td>\n",
       "      <td>8.8125</td>\n",
       "    </tr>\n",
       "    <tr>\n",
       "      <th>1</th>\n",
       "      <td>1</td>\n",
       "      <td>2</td>\n",
       "      <td>NaN</td>\n",
       "      <td>NaN</td>\n",
       "      <td>NaN</td>\n",
       "      <td>NaN</td>\n",
       "      <td>6.0</td>\n",
       "      <td>NaN</td>\n",
       "      <td>1.0</td>\n",
       "      <td>NaN</td>\n",
       "      <td>...</td>\n",
       "      <td>0</td>\n",
       "      <td>0</td>\n",
       "      <td>0</td>\n",
       "      <td>3410.389399</td>\n",
       "      <td>3869.349602</td>\n",
       "      <td>6448.271112</td>\n",
       "      <td>2</td>\n",
       "      <td>9</td>\n",
       "      <td>NaN</td>\n",
       "      <td>7.8750</td>\n",
       "    </tr>\n",
       "    <tr>\n",
       "      <th>2</th>\n",
       "      <td>2</td>\n",
       "      <td>1</td>\n",
       "      <td>NaN</td>\n",
       "      <td>NaN</td>\n",
       "      <td>NaN</td>\n",
       "      <td>NaN</td>\n",
       "      <td>5.0</td>\n",
       "      <td>NaN</td>\n",
       "      <td>3.0</td>\n",
       "      <td>5.0</td>\n",
       "      <td>...</td>\n",
       "      <td>0</td>\n",
       "      <td>0</td>\n",
       "      <td>0</td>\n",
       "      <td>7226.301740</td>\n",
       "      <td>8567.549110</td>\n",
       "      <td>12999.542264</td>\n",
       "      <td>2</td>\n",
       "      <td>12</td>\n",
       "      <td>NaN</td>\n",
       "      <td>9.1250</td>\n",
       "    </tr>\n",
       "    <tr>\n",
       "      <th>3</th>\n",
       "      <td>2</td>\n",
       "      <td>2</td>\n",
       "      <td>NaN</td>\n",
       "      <td>NaN</td>\n",
       "      <td>NaN</td>\n",
       "      <td>NaN</td>\n",
       "      <td>6.0</td>\n",
       "      <td>NaN</td>\n",
       "      <td>1.0</td>\n",
       "      <td>NaN</td>\n",
       "      <td>...</td>\n",
       "      <td>0</td>\n",
       "      <td>0</td>\n",
       "      <td>0</td>\n",
       "      <td>7226.301740</td>\n",
       "      <td>8567.549110</td>\n",
       "      <td>12999.542264</td>\n",
       "      <td>2</td>\n",
       "      <td>12</td>\n",
       "      <td>NaN</td>\n",
       "      <td>7.0000</td>\n",
       "    </tr>\n",
       "    <tr>\n",
       "      <th>4</th>\n",
       "      <td>2</td>\n",
       "      <td>3</td>\n",
       "      <td>NaN</td>\n",
       "      <td>NaN</td>\n",
       "      <td>NaN</td>\n",
       "      <td>NaN</td>\n",
       "      <td>6.0</td>\n",
       "      <td>NaN</td>\n",
       "      <td>1.0</td>\n",
       "      <td>NaN</td>\n",
       "      <td>...</td>\n",
       "      <td>0</td>\n",
       "      <td>0</td>\n",
       "      <td>0</td>\n",
       "      <td>7226.301740</td>\n",
       "      <td>8567.549110</td>\n",
       "      <td>12999.542264</td>\n",
       "      <td>2</td>\n",
       "      <td>12</td>\n",
       "      <td>NaN</td>\n",
       "      <td>6.1875</td>\n",
       "    </tr>\n",
       "    <tr>\n",
       "      <th>...</th>\n",
       "      <td>...</td>\n",
       "      <td>...</td>\n",
       "      <td>...</td>\n",
       "      <td>...</td>\n",
       "      <td>...</td>\n",
       "      <td>...</td>\n",
       "      <td>...</td>\n",
       "      <td>...</td>\n",
       "      <td>...</td>\n",
       "      <td>...</td>\n",
       "      <td>...</td>\n",
       "      <td>...</td>\n",
       "      <td>...</td>\n",
       "      <td>...</td>\n",
       "      <td>...</td>\n",
       "      <td>...</td>\n",
       "      <td>...</td>\n",
       "      <td>...</td>\n",
       "      <td>...</td>\n",
       "      <td>...</td>\n",
       "      <td>...</td>\n",
       "    </tr>\n",
       "    <tr>\n",
       "      <th>13578</th>\n",
       "      <td>12566</td>\n",
       "      <td>1</td>\n",
       "      <td>NaN</td>\n",
       "      <td>NaN</td>\n",
       "      <td>NaN</td>\n",
       "      <td>NaN</td>\n",
       "      <td>6.0</td>\n",
       "      <td>NaN</td>\n",
       "      <td>1.0</td>\n",
       "      <td>NaN</td>\n",
       "      <td>...</td>\n",
       "      <td>0</td>\n",
       "      <td>0</td>\n",
       "      <td>0</td>\n",
       "      <td>2080.317155</td>\n",
       "      <td>2422.820274</td>\n",
       "      <td>2627.548587</td>\n",
       "      <td>2</td>\n",
       "      <td>2</td>\n",
       "      <td>NaN</td>\n",
       "      <td>6.0000</td>\n",
       "    </tr>\n",
       "    <tr>\n",
       "      <th>13579</th>\n",
       "      <td>12566</td>\n",
       "      <td>2</td>\n",
       "      <td>NaN</td>\n",
       "      <td>NaN</td>\n",
       "      <td>NaN</td>\n",
       "      <td>NaN</td>\n",
       "      <td>6.0</td>\n",
       "      <td>NaN</td>\n",
       "      <td>1.0</td>\n",
       "      <td>NaN</td>\n",
       "      <td>...</td>\n",
       "      <td>0</td>\n",
       "      <td>0</td>\n",
       "      <td>0</td>\n",
       "      <td>2080.317155</td>\n",
       "      <td>2422.820274</td>\n",
       "      <td>2627.548587</td>\n",
       "      <td>2</td>\n",
       "      <td>2</td>\n",
       "      <td>NaN</td>\n",
       "      <td>7.0000</td>\n",
       "    </tr>\n",
       "    <tr>\n",
       "      <th>13588</th>\n",
       "      <td>12571</td>\n",
       "      <td>1</td>\n",
       "      <td>NaN</td>\n",
       "      <td>NaN</td>\n",
       "      <td>NaN</td>\n",
       "      <td>NaN</td>\n",
       "      <td>6.0</td>\n",
       "      <td>NaN</td>\n",
       "      <td>1.0</td>\n",
       "      <td>NaN</td>\n",
       "      <td>...</td>\n",
       "      <td>0</td>\n",
       "      <td>0</td>\n",
       "      <td>0</td>\n",
       "      <td>4670.540953</td>\n",
       "      <td>5795.692880</td>\n",
       "      <td>6269.200989</td>\n",
       "      <td>1</td>\n",
       "      <td>78</td>\n",
       "      <td>NaN</td>\n",
       "      <td>6.1875</td>\n",
       "    </tr>\n",
       "    <tr>\n",
       "      <th>13591</th>\n",
       "      <td>12571</td>\n",
       "      <td>4</td>\n",
       "      <td>NaN</td>\n",
       "      <td>NaN</td>\n",
       "      <td>NaN</td>\n",
       "      <td>NaN</td>\n",
       "      <td>6.0</td>\n",
       "      <td>NaN</td>\n",
       "      <td>1.0</td>\n",
       "      <td>NaN</td>\n",
       "      <td>...</td>\n",
       "      <td>0</td>\n",
       "      <td>0</td>\n",
       "      <td>0</td>\n",
       "      <td>4670.540953</td>\n",
       "      <td>5795.692880</td>\n",
       "      <td>6269.200989</td>\n",
       "      <td>1</td>\n",
       "      <td>78</td>\n",
       "      <td>NaN</td>\n",
       "      <td>7.5000</td>\n",
       "    </tr>\n",
       "    <tr>\n",
       "      <th>13592</th>\n",
       "      <td>12571</td>\n",
       "      <td>5</td>\n",
       "      <td>NaN</td>\n",
       "      <td>NaN</td>\n",
       "      <td>NaN</td>\n",
       "      <td>NaN</td>\n",
       "      <td>6.0</td>\n",
       "      <td>NaN</td>\n",
       "      <td>1.0</td>\n",
       "      <td>NaN</td>\n",
       "      <td>...</td>\n",
       "      <td>0</td>\n",
       "      <td>0</td>\n",
       "      <td>0</td>\n",
       "      <td>4670.540953</td>\n",
       "      <td>5795.692880</td>\n",
       "      <td>6269.200989</td>\n",
       "      <td>1</td>\n",
       "      <td>78</td>\n",
       "      <td>NaN</td>\n",
       "      <td>7.5000</td>\n",
       "    </tr>\n",
       "  </tbody>\n",
       "</table>\n",
       "<p>7629 rows × 244 columns</p>\n",
       "</div>"
      ],
      "text/plain": [
       "       caseid  pregordr  howpreg_n  howpreg_p  moscurrp  nowprgdk  pregend1  \\\n",
       "0           1         1        NaN        NaN       NaN       NaN       6.0   \n",
       "1           1         2        NaN        NaN       NaN       NaN       6.0   \n",
       "2           2         1        NaN        NaN       NaN       NaN       5.0   \n",
       "3           2         2        NaN        NaN       NaN       NaN       6.0   \n",
       "4           2         3        NaN        NaN       NaN       NaN       6.0   \n",
       "...       ...       ...        ...        ...       ...       ...       ...   \n",
       "13578   12566         1        NaN        NaN       NaN       NaN       6.0   \n",
       "13579   12566         2        NaN        NaN       NaN       NaN       6.0   \n",
       "13588   12571         1        NaN        NaN       NaN       NaN       6.0   \n",
       "13591   12571         4        NaN        NaN       NaN       NaN       6.0   \n",
       "13592   12571         5        NaN        NaN       NaN       NaN       6.0   \n",
       "\n",
       "       pregend2  nbrnaliv  multbrth  ...  laborfor_i  religion_i  metro_i  \\\n",
       "0           NaN       1.0       NaN  ...           0           0        0   \n",
       "1           NaN       1.0       NaN  ...           0           0        0   \n",
       "2           NaN       3.0       5.0  ...           0           0        0   \n",
       "3           NaN       1.0       NaN  ...           0           0        0   \n",
       "4           NaN       1.0       NaN  ...           0           0        0   \n",
       "...         ...       ...       ...  ...         ...         ...      ...   \n",
       "13578       NaN       1.0       NaN  ...           0           0        0   \n",
       "13579       NaN       1.0       NaN  ...           0           0        0   \n",
       "13588       NaN       1.0       NaN  ...           0           0        0   \n",
       "13591       NaN       1.0       NaN  ...           0           0        0   \n",
       "13592       NaN       1.0       NaN  ...           0           0        0   \n",
       "\n",
       "           basewgt  adj_mod_basewgt      finalwgt  secu_p  sest  cmintvw  \\\n",
       "0      3410.389399      3869.349602   6448.271112       2     9      NaN   \n",
       "1      3410.389399      3869.349602   6448.271112       2     9      NaN   \n",
       "2      7226.301740      8567.549110  12999.542264       2    12      NaN   \n",
       "3      7226.301740      8567.549110  12999.542264       2    12      NaN   \n",
       "4      7226.301740      8567.549110  12999.542264       2    12      NaN   \n",
       "...            ...              ...           ...     ...   ...      ...   \n",
       "13578  2080.317155      2422.820274   2627.548587       2     2      NaN   \n",
       "13579  2080.317155      2422.820274   2627.548587       2     2      NaN   \n",
       "13588  4670.540953      5795.692880   6269.200989       1    78      NaN   \n",
       "13591  4670.540953      5795.692880   6269.200989       1    78      NaN   \n",
       "13592  4670.540953      5795.692880   6269.200989       1    78      NaN   \n",
       "\n",
       "       totalwgt_lb  \n",
       "0           8.8125  \n",
       "1           7.8750  \n",
       "2           9.1250  \n",
       "3           7.0000  \n",
       "4           6.1875  \n",
       "...            ...  \n",
       "13578       6.0000  \n",
       "13579       7.0000  \n",
       "13588       6.1875  \n",
       "13591       7.5000  \n",
       "13592       7.5000  \n",
       "\n",
       "[7629 rows x 244 columns]"
      ]
     },
     "execution_count": 82,
     "metadata": {},
     "output_type": "execute_result"
    }
   ],
   "source": [
    "caseids = resp[resp['parity'] >= 2].caseid\n",
    "\n",
    "mult_child = live[(live['caseid'].isin(caseids))]\n",
    "mult_child"
   ]
  },
  {
   "cell_type": "code",
   "execution_count": 98,
   "metadata": {},
   "outputs": [],
   "source": [
    "first_mult = thinkstats2.Pmf(mult_child[mult_child['pregordr'] == 1].prglngth, label='firsts')\n",
    "other_mult = thinkstats2.Pmf(mult_child[mult_child['pregordr'] != 1].prglngth, label='others')"
   ]
  },
  {
   "cell_type": "code",
   "execution_count": 99,
   "metadata": {},
   "outputs": [
    {
     "data": {
      "text/plain": [
       "Pmf({39: 0.5337308982482296, 40: 0.12281028699217293, 38: 0.06876630637346254, 37: 0.05255311218784942, 41: 0.05124860231084607, 35: 0.03168095415579575, 36: 0.03168095415579575, 42: 0.030935519940365263, 43: 0.014908684308609765, 30: 0.013976891539321655, 32: 0.012299664554603056, 34: 0.007081625046589638, 44: 0.004845322400298174, 33: 0.004845322400298174, 26: 0.004286246738725307, 31: 0.002981736861721953, 29: 0.002422661200149087, 28: 0.0022363026462914647, 45: 0.0011181513231457323, 24: 0.0011181513231457323, 48: 0.0009317927692881103, 22: 0.0007454342154304882, 50: 0.0003727171077152441, 27: 0.0003727171077152441, 25: 0.0003727171077152441, 17: 0.00018635855385762206, 13: 0.00018635855385762206, 9: 0.00018635855385762206, 18: 0.00018635855385762206, 19: 0.00018635855385762206, 21: 0.00018635855385762206, 20: 0.00018635855385762206, 4: 0.00018635855385762206, 0: 0.00018635855385762206}, 'others')"
      ]
     },
     "execution_count": 99,
     "metadata": {},
     "output_type": "execute_result"
    }
   ],
   "source": [
    "other_mult"
   ]
  },
  {
   "cell_type": "code",
   "execution_count": 104,
   "metadata": {},
   "outputs": [
    {
     "data": {
      "image/png": "[encoded data removed]",
      "text/plain": [
       "<Figure size 432x288 with 1 Axes>"
      ]
     },
     "metadata": {
      "needs_background": "light"
     },
     "output_type": "display_data"
    },
    {
     "data": {
      "text/plain": [
       "<Figure size 576x432 with 0 Axes>"
      ]
     },
     "metadata": {},
     "output_type": "display_data"
    }
   ],
   "source": [
    "weeks = range(35, 46)\n",
    "diffs = []\n",
    "\n",
    "for week in weeks:\n",
    "    p1 = first_mult.Prob(week)\n",
    "    p2 = other_mult.Prob(week)\n",
    "    diff = 100 * (p1 - p2)\n",
    "    diffs.append(diff)\n",
    "\n",
    "thinkplot.Bar(weeks, diffs)\n",
    "thinkplot.Show(xlabel='weeks', ylabel='percent difference', axis=[34, 46, -3.5, 3.5], title='Mothers with More than One Birth')"
   ]
  },
  {
   "cell_type": "markdown",
   "metadata": {},
   "source": [
    "### Exercise 3.4"
   ]
  },
  {
   "cell_type": "code",
   "execution_count": 105,
   "metadata": {},
   "outputs": [],
   "source": [
    "import relay"
   ]
  },
  {
   "cell_type": "code",
   "execution_count": 119,
   "metadata": {},
   "outputs": [
    {
     "data": {
      "text/plain": [
       "[12.1,\n",
       " 11.8,\n",
       " 11.7,\n",
       " 11.5,\n",
       " 11.3,\n",
       " 11.2,\n",
       " 11.1,\n",
       " 11.0,\n",
       " 11.0,\n",
       " 11.0,\n",
       " 10.9,\n",
       " 10.8,\n",
       " 10.5,\n",
       " 10.4,\n",
       " 10.2,\n",
       " 10.1,\n",
       " 10.1,\n",
       " 10.0,\n",
       " 9.9,\n",
       " 9.9,\n",
       " 9.9,\n",
       " 9.8,\n",
       " 9.8,\n",
       " 9.8,\n",
       " 9.8,\n",
       " 9.7,\n",
       " 9.7,\n",
       " 9.7,\n",
       " 9.7,\n",
       " 9.7,\n",
       " 9.7,\n",
       " 9.6,\n",
       " 9.5,\n",
       " 9.5,\n",
       " 9.5,\n",
       " 9.5,\n",
       " 9.5,\n",
       " 9.4,\n",
       " 9.4,\n",
       " 9.4,\n",
       " 9.4,\n",
       " 9.4,\n",
       " 9.4,\n",
       " 9.4,\n",
       " 9.4,\n",
       " 9.4,\n",
       " 9.4,\n",
       " 9.3,\n",
       " 9.3,\n",
       " 9.3,\n",
       " 9.2,\n",
       " 9.2,\n",
       " 9.2,\n",
       " 9.2,\n",
       " 9.2,\n",
       " 9.1,\n",
       " 9.1,\n",
       " 9.1,\n",
       " 9.1,\n",
       " 9.1,\n",
       " 9.0,\n",
       " 9.0,\n",
       " 9.0,\n",
       " 9.0,\n",
       " 9.0,\n",
       " 9.0,\n",
       " 8.9,\n",
       " 8.9,\n",
       " 8.9,\n",
       " 8.9,\n",
       " 8.9,\n",
       " 8.9,\n",
       " 8.9,\n",
       " 8.9,\n",
       " 8.9,\n",
       " 8.8,\n",
       " 8.8,\n",
       " 8.8,\n",
       " 8.8,\n",
       " 8.8,\n",
       " 8.8,\n",
       " 8.8,\n",
       " 8.8,\n",
       " 8.8,\n",
       " 8.8,\n",
       " 8.8,\n",
       " 8.8,\n",
       " 8.8,\n",
       " 8.8,\n",
       " 8.8,\n",
       " 8.7,\n",
       " 8.7,\n",
       " 8.7,\n",
       " 8.7,\n",
       " 8.7,\n",
       " 8.7,\n",
       " 8.7,\n",
       " 8.7,\n",
       " 8.7,\n",
       " 8.7,\n",
       " 8.7,\n",
       " 8.7,\n",
       " 8.7,\n",
       " 8.7,\n",
       " 8.7,\n",
       " 8.7,\n",
       " 8.7,\n",
       " 8.7,\n",
       " 8.6,\n",
       " 8.6,\n",
       " 8.6,\n",
       " 8.6,\n",
       " 8.6,\n",
       " 8.6,\n",
       " 8.6,\n",
       " 8.6,\n",
       " 8.6,\n",
       " 8.6,\n",
       " 8.5,\n",
       " 8.5,\n",
       " 8.5,\n",
       " 8.5,\n",
       " 8.5,\n",
       " 8.5,\n",
       " 8.5,\n",
       " 8.5,\n",
       " 8.5,\n",
       " 8.5,\n",
       " 8.5,\n",
       " 8.5,\n",
       " 8.5,\n",
       " 8.5,\n",
       " 8.5,\n",
       " 8.5,\n",
       " 8.4,\n",
       " 8.4,\n",
       " 8.4,\n",
       " 8.4,\n",
       " 8.4,\n",
       " 8.4,\n",
       " 8.4,\n",
       " 8.4,\n",
       " 8.4,\n",
       " 8.4,\n",
       " 8.4,\n",
       " 8.3,\n",
       " 8.3,\n",
       " 8.3,\n",
       " 8.3,\n",
       " 8.3,\n",
       " 8.3,\n",
       " 8.3,\n",
       " 8.3,\n",
       " 8.3,\n",
       " 8.3,\n",
       " 8.3,\n",
       " 8.3,\n",
       " 8.3,\n",
       " 8.3,\n",
       " 8.3,\n",
       " 8.3,\n",
       " 8.2,\n",
       " 8.2,\n",
       " 8.2,\n",
       " 8.2,\n",
       " 8.2,\n",
       " 8.2,\n",
       " 8.2,\n",
       " 8.2,\n",
       " 8.2,\n",
       " 8.2,\n",
       " 8.2,\n",
       " 8.2,\n",
       " 8.2,\n",
       " 8.2,\n",
       " 8.2,\n",
       " 8.2,\n",
       " 8.2,\n",
       " 8.2,\n",
       " 8.2,\n",
       " 8.2,\n",
       " 8.2,\n",
       " 8.2,\n",
       " 8.1,\n",
       " 8.1,\n",
       " 8.1,\n",
       " 8.1,\n",
       " 8.1,\n",
       " 8.1,\n",
       " 8.1,\n",
       " 8.1,\n",
       " 8.1,\n",
       " 8.1,\n",
       " 8.1,\n",
       " 8.1,\n",
       " 8.1,\n",
       " 8.1,\n",
       " 8.1,\n",
       " 8.1,\n",
       " 8.1,\n",
       " 8.1,\n",
       " 8.1,\n",
       " 8.1,\n",
       " 8.1,\n",
       " 8.1,\n",
       " 8.1,\n",
       " 8.1,\n",
       " 8.1,\n",
       " 8.1,\n",
       " 8.1,\n",
       " 8.1,\n",
       " 8.1,\n",
       " 8.1,\n",
       " 8.1,\n",
       " 8.0,\n",
       " 8.0,\n",
       " 8.0,\n",
       " 8.0,\n",
       " 8.0,\n",
       " 8.0,\n",
       " 8.0,\n",
       " 8.0,\n",
       " 8.0,\n",
       " 8.0,\n",
       " 8.0,\n",
       " 8.0,\n",
       " 8.0,\n",
       " 8.0,\n",
       " 8.0,\n",
       " 8.0,\n",
       " 8.0,\n",
       " 8.0,\n",
       " 8.0,\n",
       " 8.0,\n",
       " 8.0,\n",
       " 8.0,\n",
       " 8.0,\n",
       " 8.0,\n",
       " 8.0,\n",
       " 8.0,\n",
       " 8.0,\n",
       " 8.0,\n",
       " 7.9,\n",
       " 7.9,\n",
       " 7.9,\n",
       " 7.9,\n",
       " 7.9,\n",
       " 7.9,\n",
       " 7.9,\n",
       " 7.9,\n",
       " 7.9,\n",
       " 7.9,\n",
       " 7.9,\n",
       " 7.9,\n",
       " 7.9,\n",
       " 7.9,\n",
       " 7.9,\n",
       " 7.9,\n",
       " 7.9,\n",
       " 7.9,\n",
       " 7.9,\n",
       " 7.9,\n",
       " 7.9,\n",
       " 7.9,\n",
       " 7.9,\n",
       " 7.9,\n",
       " 7.9,\n",
       " 7.9,\n",
       " 7.9,\n",
       " 7.9,\n",
       " 7.9,\n",
       " 7.9,\n",
       " 7.9,\n",
       " 7.9,\n",
       " 7.8,\n",
       " 7.8,\n",
       " 7.8,\n",
       " 7.8,\n",
       " 7.8,\n",
       " 7.8,\n",
       " 7.8,\n",
       " 7.8,\n",
       " 7.8,\n",
       " 7.8,\n",
       " 7.8,\n",
       " 7.8,\n",
       " 7.8,\n",
       " 7.8,\n",
       " 7.8,\n",
       " 7.8,\n",
       " 7.8,\n",
       " 7.8,\n",
       " 7.8,\n",
       " 7.8,\n",
       " 7.8,\n",
       " 7.8,\n",
       " 7.8,\n",
       " 7.8,\n",
       " 7.8,\n",
       " 7.8,\n",
       " 7.8,\n",
       " 7.8,\n",
       " 7.8,\n",
       " 7.8,\n",
       " 7.8,\n",
       " 7.8,\n",
       " 7.8,\n",
       " 7.8,\n",
       " 7.8,\n",
       " 7.8,\n",
       " 7.8,\n",
       " 7.8,\n",
       " 7.8,\n",
       " 7.8,\n",
       " 7.8,\n",
       " 7.8,\n",
       " 7.8,\n",
       " 7.8,\n",
       " 7.7,\n",
       " 7.7,\n",
       " 7.7,\n",
       " 7.7,\n",
       " 7.7,\n",
       " 7.7,\n",
       " 7.7,\n",
       " 7.7,\n",
       " 7.7,\n",
       " 7.7,\n",
       " 7.7,\n",
       " 7.7,\n",
       " 7.7,\n",
       " 7.7,\n",
       " 7.7,\n",
       " 7.7,\n",
       " 7.7,\n",
       " 7.7,\n",
       " 7.7,\n",
       " 7.7,\n",
       " 7.7,\n",
       " 7.7,\n",
       " 7.7,\n",
       " 7.7,\n",
       " 7.7,\n",
       " 7.7,\n",
       " 7.7,\n",
       " 7.7,\n",
       " 7.7,\n",
       " 7.7,\n",
       " 7.7,\n",
       " 7.7,\n",
       " 7.7,\n",
       " 7.7,\n",
       " 7.7,\n",
       " 7.7,\n",
       " 7.7,\n",
       " 7.7,\n",
       " 7.7,\n",
       " 7.6,\n",
       " 7.6,\n",
       " 7.6,\n",
       " 7.6,\n",
       " 7.6,\n",
       " 7.6,\n",
       " 7.6,\n",
       " 7.6,\n",
       " 7.6,\n",
       " 7.6,\n",
       " 7.6,\n",
       " 7.6,\n",
       " 7.6,\n",
       " 7.6,\n",
       " 7.6,\n",
       " 7.6,\n",
       " 7.6,\n",
       " 7.6,\n",
       " 7.6,\n",
       " 7.6,\n",
       " 7.6,\n",
       " 7.6,\n",
       " 7.6,\n",
       " 7.6,\n",
       " 7.6,\n",
       " 7.6,\n",
       " 7.6,\n",
       " 7.6,\n",
       " 7.6,\n",
       " 7.6,\n",
       " 7.6,\n",
       " 7.6,\n",
       " 7.6,\n",
       " 7.6,\n",
       " 7.6,\n",
       " 7.6,\n",
       " 7.6,\n",
       " 7.6,\n",
       " 7.6,\n",
       " 7.6,\n",
       " 7.6,\n",
       " 7.6,\n",
       " 7.6,\n",
       " 7.6,\n",
       " 7.6,\n",
       " 7.5,\n",
       " 7.5,\n",
       " 7.5,\n",
       " 7.5,\n",
       " 7.5,\n",
       " 7.5,\n",
       " 7.5,\n",
       " 7.5,\n",
       " 7.5,\n",
       " 7.5,\n",
       " 7.5,\n",
       " 7.5,\n",
       " 7.5,\n",
       " 7.5,\n",
       " 7.5,\n",
       " 7.5,\n",
       " 7.5,\n",
       " 7.5,\n",
       " 7.5,\n",
       " 7.5,\n",
       " 7.5,\n",
       " 7.5,\n",
       " 7.5,\n",
       " 7.5,\n",
       " 7.5,\n",
       " 7.5,\n",
       " 7.5,\n",
       " 7.5,\n",
       " 7.5,\n",
       " 7.5,\n",
       " 7.5,\n",
       " 7.5,\n",
       " 7.5,\n",
       " 7.5,\n",
       " 7.5,\n",
       " 7.5,\n",
       " 7.5,\n",
       " 7.5,\n",
       " 7.5,\n",
       " 7.5,\n",
       " 7.5,\n",
       " 7.5,\n",
       " 7.5,\n",
       " 7.5,\n",
       " 7.5,\n",
       " 7.5,\n",
       " 7.5,\n",
       " 7.4,\n",
       " 7.4,\n",
       " 7.4,\n",
       " 7.4,\n",
       " 7.4,\n",
       " 7.4,\n",
       " 7.4,\n",
       " 7.4,\n",
       " 7.4,\n",
       " 7.4,\n",
       " 7.4,\n",
       " 7.4,\n",
       " 7.4,\n",
       " 7.4,\n",
       " 7.4,\n",
       " 7.4,\n",
       " 7.4,\n",
       " 7.4,\n",
       " 7.4,\n",
       " 7.4,\n",
       " 7.4,\n",
       " 7.4,\n",
       " 7.4,\n",
       " 7.4,\n",
       " 7.4,\n",
       " 7.4,\n",
       " 7.4,\n",
       " 7.4,\n",
       " 7.4,\n",
       " 7.4,\n",
       " 7.4,\n",
       " 7.4,\n",
       " 7.4,\n",
       " 7.4,\n",
       " 7.4,\n",
       " 7.4,\n",
       " 7.4,\n",
       " 7.4,\n",
       " 7.4,\n",
       " 7.4,\n",
       " 7.3,\n",
       " 7.3,\n",
       " 7.3,\n",
       " 7.3,\n",
       " 7.3,\n",
       " 7.3,\n",
       " 7.3,\n",
       " 7.3,\n",
       " 7.3,\n",
       " 7.3,\n",
       " 7.3,\n",
       " 7.3,\n",
       " 7.3,\n",
       " 7.3,\n",
       " 7.3,\n",
       " 7.3,\n",
       " 7.3,\n",
       " 7.3,\n",
       " 7.3,\n",
       " 7.3,\n",
       " 7.3,\n",
       " 7.3,\n",
       " 7.3,\n",
       " 7.3,\n",
       " 7.3,\n",
       " 7.3,\n",
       " 7.3,\n",
       " 7.3,\n",
       " 7.3,\n",
       " 7.3,\n",
       " 7.3,\n",
       " 7.3,\n",
       " 7.3,\n",
       " 7.3,\n",
       " 7.3,\n",
       " 7.3,\n",
       " 7.3,\n",
       " 7.3,\n",
       " 7.3,\n",
       " 7.3,\n",
       " 7.3,\n",
       " 7.3,\n",
       " 7.2,\n",
       " 7.2,\n",
       " 7.2,\n",
       " 7.2,\n",
       " 7.2,\n",
       " 7.2,\n",
       " 7.2,\n",
       " 7.2,\n",
       " 7.2,\n",
       " 7.2,\n",
       " 7.2,\n",
       " 7.2,\n",
       " 7.2,\n",
       " 7.2,\n",
       " 7.2,\n",
       " 7.2,\n",
       " 7.2,\n",
       " 7.2,\n",
       " 7.2,\n",
       " 7.2,\n",
       " 7.2,\n",
       " 7.2,\n",
       " 7.2,\n",
       " 7.2,\n",
       " 7.2,\n",
       " 7.2,\n",
       " 7.2,\n",
       " 7.2,\n",
       " 7.2,\n",
       " 7.2,\n",
       " 7.2,\n",
       " 7.2,\n",
       " 7.2,\n",
       " 7.2,\n",
       " 7.2,\n",
       " 7.2,\n",
       " 7.2,\n",
       " 7.2,\n",
       " 7.2,\n",
       " 7.2,\n",
       " 7.2,\n",
       " 7.2,\n",
       " 7.2,\n",
       " 7.2,\n",
       " 7.2,\n",
       " 7.1,\n",
       " 7.1,\n",
       " 7.1,\n",
       " 7.1,\n",
       " 7.1,\n",
       " 7.1,\n",
       " 7.1,\n",
       " 7.1,\n",
       " 7.1,\n",
       " 7.1,\n",
       " 7.1,\n",
       " 7.1,\n",
       " 7.1,\n",
       " 7.1,\n",
       " 7.1,\n",
       " 7.1,\n",
       " 7.1,\n",
       " 7.1,\n",
       " 7.1,\n",
       " 7.1,\n",
       " 7.1,\n",
       " 7.1,\n",
       " 7.1,\n",
       " 7.1,\n",
       " 7.1,\n",
       " 7.1,\n",
       " 7.1,\n",
       " 7.1,\n",
       " 7.1,\n",
       " 7.1,\n",
       " 7.1,\n",
       " 7.1,\n",
       " 7.1,\n",
       " 7.1,\n",
       " 7.1,\n",
       " 7.1,\n",
       " 7.1,\n",
       " 7.1,\n",
       " 7.1,\n",
       " 7.1,\n",
       " 7.1,\n",
       " 7.1,\n",
       " 7.1,\n",
       " 7.1,\n",
       " 7.1,\n",
       " 7.1,\n",
       " 7.0,\n",
       " 7.0,\n",
       " 7.0,\n",
       " 7.0,\n",
       " 7.0,\n",
       " 7.0,\n",
       " 7.0,\n",
       " 7.0,\n",
       " 7.0,\n",
       " 7.0,\n",
       " 7.0,\n",
       " 7.0,\n",
       " 7.0,\n",
       " 7.0,\n",
       " 7.0,\n",
       " 7.0,\n",
       " 7.0,\n",
       " 7.0,\n",
       " 7.0,\n",
       " 7.0,\n",
       " 7.0,\n",
       " 7.0,\n",
       " 7.0,\n",
       " 7.0,\n",
       " 7.0,\n",
       " 7.0,\n",
       " 7.0,\n",
       " 7.0,\n",
       " 7.0,\n",
       " 7.0,\n",
       " 7.0,\n",
       " 7.0,\n",
       " 7.0,\n",
       " 7.0,\n",
       " 7.0,\n",
       " 7.0,\n",
       " 7.0,\n",
       " 7.0,\n",
       " 6.9,\n",
       " 6.9,\n",
       " 6.9,\n",
       " 6.9,\n",
       " 6.9,\n",
       " 6.9,\n",
       " 6.9,\n",
       " 6.9,\n",
       " 6.9,\n",
       " 6.9,\n",
       " 6.9,\n",
       " 6.9,\n",
       " 6.9,\n",
       " 6.9,\n",
       " 6.9,\n",
       " 6.9,\n",
       " 6.9,\n",
       " 6.9,\n",
       " 6.9,\n",
       " 6.9,\n",
       " 6.9,\n",
       " 6.9,\n",
       " 6.9,\n",
       " 6.9,\n",
       " 6.9,\n",
       " 6.9,\n",
       " 6.9,\n",
       " 6.9,\n",
       " 6.9,\n",
       " 6.9,\n",
       " 6.9,\n",
       " 6.9,\n",
       " 6.9,\n",
       " 6.9,\n",
       " 6.9,\n",
       " 6.9,\n",
       " 6.9,\n",
       " 6.9,\n",
       " 6.9,\n",
       " 6.9,\n",
       " 6.9,\n",
       " 6.9,\n",
       " 6.9,\n",
       " 6.9,\n",
       " 6.9,\n",
       " 6.9,\n",
       " 6.9,\n",
       " 6.9,\n",
       " 6.9,\n",
       " 6.9,\n",
       " 6.9,\n",
       " 6.9,\n",
       " 6.9,\n",
       " 6.9,\n",
       " 6.9,\n",
       " 6.9,\n",
       " 6.9,\n",
       " 6.8,\n",
       " 6.8,\n",
       " 6.8,\n",
       " 6.8,\n",
       " 6.8,\n",
       " 6.8,\n",
       " 6.8,\n",
       " 6.8,\n",
       " 6.8,\n",
       " 6.8,\n",
       " 6.8,\n",
       " 6.8,\n",
       " 6.8,\n",
       " 6.8,\n",
       " 6.8,\n",
       " 6.8,\n",
       " 6.8,\n",
       " 6.8,\n",
       " 6.8,\n",
       " 6.8,\n",
       " 6.8,\n",
       " 6.8,\n",
       " 6.8,\n",
       " 6.8,\n",
       " 6.8,\n",
       " 6.8,\n",
       " 6.8,\n",
       " 6.8,\n",
       " 6.8,\n",
       " 6.8,\n",
       " 6.8,\n",
       " 6.8,\n",
       " 6.8,\n",
       " 6.8,\n",
       " 6.8,\n",
       " 6.8,\n",
       " 6.8,\n",
       " 6.8,\n",
       " 6.8,\n",
       " 6.8,\n",
       " 6.8,\n",
       " 6.8,\n",
       " 6.8,\n",
       " 6.8,\n",
       " 6.8,\n",
       " 6.8,\n",
       " 6.8,\n",
       " 6.8,\n",
       " 6.8,\n",
       " 6.8,\n",
       " 6.8,\n",
       " 6.8,\n",
       " 6.8,\n",
       " 6.8,\n",
       " 6.8,\n",
       " 6.8,\n",
       " 6.8,\n",
       " 6.8,\n",
       " 6.8,\n",
       " 6.7,\n",
       " 6.7,\n",
       " 6.7,\n",
       " 6.7,\n",
       " 6.7,\n",
       " 6.7,\n",
       " 6.7,\n",
       " 6.7,\n",
       " 6.7,\n",
       " 6.7,\n",
       " 6.7,\n",
       " 6.7,\n",
       " 6.7,\n",
       " 6.7,\n",
       " 6.7,\n",
       " 6.7,\n",
       " 6.7,\n",
       " 6.7,\n",
       " 6.7,\n",
       " 6.7,\n",
       " 6.7,\n",
       " 6.7,\n",
       " 6.7,\n",
       " 6.7,\n",
       " 6.7,\n",
       " 6.7,\n",
       " 6.7,\n",
       " 6.7,\n",
       " 6.7,\n",
       " 6.7,\n",
       " 6.7,\n",
       " 6.7,\n",
       " 6.7,\n",
       " 6.7,\n",
       " 6.7,\n",
       " 6.7,\n",
       " 6.7,\n",
       " 6.7,\n",
       " 6.7,\n",
       " 6.7,\n",
       " 6.7,\n",
       " 6.7,\n",
       " 6.7,\n",
       " 6.7,\n",
       " 6.7,\n",
       " 6.7,\n",
       " 6.7,\n",
       " 6.7,\n",
       " 6.7,\n",
       " 6.7,\n",
       " 6.7,\n",
       " 6.7,\n",
       " 6.7,\n",
       " 6.7,\n",
       " 6.7,\n",
       " 6.7,\n",
       " 6.7,\n",
       " 6.7,\n",
       " 6.7,\n",
       " 6.7,\n",
       " 6.7,\n",
       " 6.7,\n",
       " 6.7,\n",
       " 6.7,\n",
       " 6.7,\n",
       " 6.7,\n",
       " 6.7,\n",
       " 6.6,\n",
       " 6.6,\n",
       " 6.6,\n",
       " 6.6,\n",
       " 6.6,\n",
       " 6.6,\n",
       " 6.6,\n",
       " 6.6,\n",
       " 6.6,\n",
       " 6.6,\n",
       " 6.6,\n",
       " 6.6,\n",
       " 6.6,\n",
       " 6.6,\n",
       " 6.6,\n",
       " 6.6,\n",
       " 6.6,\n",
       " 6.6,\n",
       " 6.6,\n",
       " 6.6,\n",
       " 6.6,\n",
       " 6.6,\n",
       " 6.6,\n",
       " 6.6,\n",
       " 6.6,\n",
       " 6.6,\n",
       " 6.6,\n",
       " 6.6,\n",
       " 6.6,\n",
       " 6.6,\n",
       " 6.6,\n",
       " 6.6,\n",
       " 6.6,\n",
       " 6.6,\n",
       " 6.6,\n",
       " 6.6,\n",
       " 6.6,\n",
       " 6.6,\n",
       " 6.6,\n",
       " 6.6,\n",
       " 6.6,\n",
       " 6.6,\n",
       " 6.6,\n",
       " 6.6,\n",
       " 6.6,\n",
       " 6.6,\n",
       " 6.6,\n",
       " 6.6,\n",
       " 6.6,\n",
       " 6.6,\n",
       " 6.6,\n",
       " 6.5,\n",
       " 6.5,\n",
       " 6.5,\n",
       " 6.5,\n",
       " 6.5,\n",
       " 6.5,\n",
       " 6.5,\n",
       " 6.5,\n",
       " 6.5,\n",
       " 6.5,\n",
       " 6.5,\n",
       " 6.5,\n",
       " 6.5,\n",
       " 6.5,\n",
       " 6.5,\n",
       " 6.5,\n",
       " 6.5,\n",
       " 6.5,\n",
       " 6.5,\n",
       " 6.5,\n",
       " 6.5,\n",
       " 6.5,\n",
       " 6.5,\n",
       " 6.5,\n",
       " 6.5,\n",
       " 6.5,\n",
       " 6.5,\n",
       " 6.5,\n",
       " 6.5,\n",
       " 6.5,\n",
       " 6.5,\n",
       " 6.5,\n",
       " 6.5,\n",
       " 6.5,\n",
       " 6.5,\n",
       " 6.5,\n",
       " 6.5,\n",
       " 6.5,\n",
       " 6.5,\n",
       " 6.5,\n",
       " 6.5,\n",
       " 6.5,\n",
       " 6.5,\n",
       " 6.5,\n",
       " 6.5,\n",
       " 6.5,\n",
       " 6.5,\n",
       " 6.5,\n",
       " 6.5,\n",
       " 6.5,\n",
       " 6.5,\n",
       " 6.5,\n",
       " 6.5,\n",
       " 6.5,\n",
       " 6.5,\n",
       " 6.5,\n",
       " 6.5,\n",
       " 6.5,\n",
       " 6.5,\n",
       " 6.5,\n",
       " 6.5,\n",
       " 6.5,\n",
       " 6.5,\n",
       " 6.5,\n",
       " 6.5,\n",
       " 6.5,\n",
       " 6.5,\n",
       " 6.5,\n",
       " 6.5,\n",
       " 6.4,\n",
       " 6.4,\n",
       " 6.4,\n",
       " 6.4,\n",
       " 6.4,\n",
       " 6.4,\n",
       " 6.4,\n",
       " 6.4,\n",
       " 6.4,\n",
       " 6.4,\n",
       " 6.4,\n",
       " 6.4,\n",
       " 6.4,\n",
       " 6.4,\n",
       " 6.4,\n",
       " 6.4,\n",
       " 6.4,\n",
       " 6.4,\n",
       " 6.4,\n",
       " 6.4,\n",
       " 6.4,\n",
       " 6.4,\n",
       " 6.4,\n",
       " 6.4,\n",
       " 6.4,\n",
       " 6.4,\n",
       " 6.4,\n",
       " 6.4,\n",
       " 6.4,\n",
       " 6.4,\n",
       " 6.4,\n",
       " 6.4,\n",
       " 6.4,\n",
       " 6.4,\n",
       " 6.4,\n",
       " 6.4,\n",
       " 6.4,\n",
       " ...]"
      ]
     },
     "execution_count": 119,
     "metadata": {},
     "output_type": "execute_result"
    }
   ],
   "source": [
    "results = relay.ReadResults()\n",
    "\n",
    "speeds = relay.GetSpeeds(results) # MPH\n",
    "speeds = [round(speed, 1) for speed in speeds]\n",
    "speeds"
   ]
  },
  {
   "cell_type": "code",
   "execution_count": 134,
   "metadata": {},
   "outputs": [
    {
     "data": {
      "image/png": "[encoded data removed]",
      "text/plain": [
       "<Figure size 432x288 with 1 Axes>"
      ]
     },
     "metadata": {
      "needs_background": "light"
     },
     "output_type": "display_data"
    },
    {
     "data": {
      "text/plain": [
       "<Figure size 576x432 with 0 Axes>"
      ]
     },
     "metadata": {},
     "output_type": "display_data"
    }
   ],
   "source": [
    "speeds_dict = {}\n",
    "for speed in speeds:\n",
    "    if speed in speeds_dict:\n",
    "        speeds_dict[speed] = speeds_dict[speed] + 1\n",
    "    else:\n",
    "        speeds_dict[speed] = 1\n",
    "\n",
    "speeds_true = thinkstats2.Pmf(speeds_dict, label='actual speeds')"
   ]
  },
  {
   "cell_type": "code",
   "execution_count": 145,
   "metadata": {},
   "outputs": [],
   "source": [
    "def ObservedPmf(pmf, speed):\n",
    "    pmf_ = pmf.Copy(label='observed speeds')\n",
    "    \n",
    "    for val in pmf.Values():\n",
    "        diff = abs(val - speed)\n",
    "        pmf_.Mult(val, diff)\n",
    "    \n",
    "    pmf_.Normalize()\n",
    "    \n",
    "    return pmf_\n",
    "\n",
    "speeds_obs = ObservedPmf(speeds_true, 7.5)"
   ]
  },
  {
   "cell_type": "code",
   "execution_count": 146,
   "metadata": {},
   "outputs": [
    {
     "data": {
      "image/png": "[encoded data removed]",
      "text/plain": [
       "<Figure size 432x288 with 1 Axes>"
      ]
     },
     "metadata": {
      "needs_background": "light"
     },
     "output_type": "display_data"
    },
    {
     "data": {
      "text/plain": [
       "<Figure size 576x432 with 0 Axes>"
      ]
     },
     "metadata": {},
     "output_type": "display_data"
    }
   ],
   "source": [
    "thinkplot.Pmfs([speeds_true, speeds_obs])\n",
    "thinkplot.Show(xlabel='Speed / MPH', ylabel='Proportion')"
   ]
  }
 ],
 "metadata": {
  "kernelspec": {
   "display_name": "Python 3",
   "language": "python",
   "name": "python3"
  },
  "language_info": {
   "codemirror_mode": {
    "name": "ipython",
    "version": 3
   },
   "file_extension": ".py",
   "mimetype": "text/x-python",
   "name": "python",
   "nbconvert_exporter": "python",
   "pygments_lexer": "ipython3",
   "version": "3.7.6"
  }
 },
 "nbformat": 4,
 "nbformat_minor": 4
}
